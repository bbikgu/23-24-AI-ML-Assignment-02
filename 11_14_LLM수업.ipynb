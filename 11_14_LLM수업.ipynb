{
  "nbformat": 4,
  "nbformat_minor": 0,
  "metadata": {
    "colab": {
      "provenance": []
    },
    "kernelspec": {
      "name": "python3",
      "display_name": "Python 3"
    },
    "language_info": {
      "name": "python"
    }
  },
  "cells": [
    {
      "cell_type": "code",
      "source": [
        "!pip install gradientai --upgrade"
      ],
      "metadata": {
        "colab": {
          "base_uri": "https://localhost:8080/"
        },
        "id": "ohiPnpvpTrNd",
        "outputId": "af3ea688-c6df-4f68-82de-61e98febd16b"
      },
      "execution_count": 1,
      "outputs": [
        {
          "output_type": "stream",
          "name": "stdout",
          "text": [
            "Requirement already satisfied: gradientai in /usr/local/lib/python3.10/dist-packages (1.2.0)\n",
            "Requirement already satisfied: aenum>=3.1.11 in /usr/local/lib/python3.10/dist-packages (from gradientai) (3.1.15)\n",
            "Requirement already satisfied: pydantic<2.0.0,>=1.10.5 in /usr/local/lib/python3.10/dist-packages (from gradientai) (1.10.13)\n",
            "Requirement already satisfied: python-dateutil>=2.8.2 in /usr/local/lib/python3.10/dist-packages (from gradientai) (2.8.2)\n",
            "Requirement already satisfied: urllib3>=1.25.3 in /usr/local/lib/python3.10/dist-packages (from gradientai) (2.0.7)\n",
            "Requirement already satisfied: typing-extensions>=4.2.0 in /usr/local/lib/python3.10/dist-packages (from pydantic<2.0.0,>=1.10.5->gradientai) (4.5.0)\n",
            "Requirement already satisfied: six>=1.5 in /usr/local/lib/python3.10/dist-packages (from python-dateutil>=2.8.2->gradientai) (1.16.0)\n"
          ]
        }
      ]
    },
    {
      "cell_type": "code",
      "source": [
        "import os\n",
        "os.environ['GRADIENT_ACCESS_TOKEN'] = 'VCGgK3WtVsqmD2cJYV08zKb3R5926mPf'\n",
        "os.environ['GRADIENT_WORKSPACE_ID'] = '7a510474-0bee-4e8e-959e-6978c55e1ade_workspace'"
      ],
      "metadata": {
        "id": "QSEYX-uCUNyB"
      },
      "execution_count": 2,
      "outputs": []
    },
    {
      "cell_type": "code",
      "source": [
        "from gradientai import Gradient"
      ],
      "metadata": {
        "id": "hbNHo3FeWlnY"
      },
      "execution_count": 3,
      "outputs": []
    },
    {
      "cell_type": "code",
      "source": [
        "def main():\n",
        "  with Gradient() as gradient:\n",
        "      base_model = gradient.get_base_model(base_model_slug=\"nous-hermes2\")\n",
        "\n",
        "      new_model_adapter = base_model.create_model_adapter(\n",
        "          name=\"test model 3\"\n",
        "      )\n",
        "\n",
        "      print(f\"Created model adapter with id {new_model_adapter.id}\")\n",
        "      sample_query = \"### Instruction: 전영욱이 누구지? \\n\\n### Response:\"\n",
        "      print(f\"Asking: {sample_query}\")\n",
        "\n",
        "      # before fine-tuning\n",
        "\n",
        "\n",
        "      completion = new_model_adapter.complete(query = sample_query, max_generated_token_count=200).generated_output\n",
        "      print(f\"Generated (before fine-tune): {completion}\")\n",
        "\n",
        "\n",
        "# fine_tuning 위한 데이터 입력.\n",
        "      samples = [\n",
        "\n",
        "      { \"inputs\": \"### Instruction: Who is Jeon Young-uk? \\n\\n### Response: Jeon Young-uk is Sungkonghoe University student, born on September 25, 1998, in Tongyoung.\" },\n",
        "      { \"inputs\": \"### Instruction: What is Tongyoung? \\n\\n### Response: Tongyoung is city located in Gyeongsangnam-do, korea.\"},\n",
        "      { \"inputs\": \"### Instruction: What is Gyeongsangnam-do? \\n\\n### Response: Gyeongsangnam-do is located in south-east of korea.\"},\n",
        "      { \"inputs\": \"### Instruction: What is Jeon Young-uk's role now? \\n\\n### Response: Jeon Young-uk is Sungkonghoe University student.\"},\n",
        "      { \"inputs\": \"### Instruction: What is Sungkonghoe University? \\n\\n### Response: Sungkonghoe University is private university, located in Seoul.\"},\n",
        "      { \"inputs\": \"### Instruction: What is Jeon-Younguk's profile? \\n\\n### Response: Jeon Young-uk is korean student. Jeon Young-uk lived in Anyang, now live in the Suwon.\"},\n",
        "      { \"inputs\": \"### Instruction: What is Anyang? \\n\\n### Response: Anyang is city located in Gyeonggi-do, korea.\"},\n",
        "      { \"inputs\": \"### Instruction: What is Suwon? \\n\\n### Response: Suwon is city located in Gyeonggi-do, korea.\"},\n",
        "      { \"inputs\": \"### Instruction: What is Gyeonggi-do? \\n\\n### Response: Gyeonggi-do is administrative area surround Seoul.\"},\n",
        "      { \"inputs\": \"### Instruction: What is Jeon Young-uk's job? \\n\\n### Response: Jeon Young-uk is student. Jeon Young-uk is studying artificial intelligence.\"},\n",
        "      { \"inputs\": \"### Instruction: What's Jeon Young-uk's favorite food? \\n\\n### Response: Jeon Young-uk's favorite food is fried chicken, french fries, and galbi \"},\n",
        "      { \"inputs\": \"### Instruction: What is Jeon Young-uk's age? \\n\\n### Response: Jepn Young-uk is 25 years old.\"}\n",
        "  ]\n",
        "\n",
        "\n",
        "\n",
        "\n",
        "      num_epochs = 48\n",
        "      count = 0\n",
        "\n",
        "      while count < num_epochs:\n",
        "          print(f\"Fine-tuning the model, iteration {count + 1}\")\n",
        "          new_model_adapter.fine_tune(samples=samples)\n",
        "          count = count + 1\n",
        "\n",
        "\n",
        "\n",
        "      # after fine-tuning\n",
        "      completion = new_model_adapter.complete(query=sample_query, max_generated_token_count=511).generated_output # max_generated_token_count 더 크게하면 출력 결과 더 많게.\n",
        "      print(f\"Generated (after fine-tune): {completion}\")\n",
        "\n",
        "      new_model_adapter.delete()\n",
        "\n",
        "if __name__ == \"__main__\":\n",
        "    main()"
      ],
      "metadata": {
        "colab": {
          "base_uri": "https://localhost:8080/"
        },
        "id": "GfIbJf2rbLOQ",
        "outputId": "a49b6f35-aea4-4cdf-8c81-d169f550a57d"
      },
      "execution_count": 4,
      "outputs": [
        {
          "output_type": "stream",
          "name": "stdout",
          "text": [
            "Created model adapter with id a328c658-bdc0-47fb-adc5-e24643e8c232_model_adapter\n",
            "Asking: ### Instruction: 전영욱이 누구지? \n",
            "\n",
            "### Response:\n",
            "Generated (before fine-tune):  전영욱은 대한민국의 배우이다.\n",
            "Fine-tuning the model, iteration 1\n",
            "Fine-tuning the model, iteration 2\n",
            "Fine-tuning the model, iteration 3\n",
            "Fine-tuning the model, iteration 4\n",
            "Fine-tuning the model, iteration 5\n",
            "Fine-tuning the model, iteration 6\n",
            "Fine-tuning the model, iteration 7\n",
            "Fine-tuning the model, iteration 8\n",
            "Fine-tuning the model, iteration 9\n",
            "Fine-tuning the model, iteration 10\n",
            "Fine-tuning the model, iteration 11\n",
            "Fine-tuning the model, iteration 12\n",
            "Fine-tuning the model, iteration 13\n",
            "Fine-tuning the model, iteration 14\n",
            "Fine-tuning the model, iteration 15\n",
            "Fine-tuning the model, iteration 16\n",
            "Fine-tuning the model, iteration 17\n",
            "Fine-tuning the model, iteration 18\n",
            "Fine-tuning the model, iteration 19\n",
            "Fine-tuning the model, iteration 20\n",
            "Fine-tuning the model, iteration 21\n",
            "Fine-tuning the model, iteration 22\n",
            "Fine-tuning the model, iteration 23\n",
            "Fine-tuning the model, iteration 24\n",
            "Fine-tuning the model, iteration 25\n",
            "Fine-tuning the model, iteration 26\n",
            "Fine-tuning the model, iteration 27\n",
            "Fine-tuning the model, iteration 28\n",
            "Fine-tuning the model, iteration 29\n",
            "Fine-tuning the model, iteration 30\n",
            "Fine-tuning the model, iteration 31\n",
            "Fine-tuning the model, iteration 32\n",
            "Fine-tuning the model, iteration 33\n",
            "Fine-tuning the model, iteration 34\n",
            "Fine-tuning the model, iteration 35\n",
            "Fine-tuning the model, iteration 36\n",
            "Fine-tuning the model, iteration 37\n",
            "Fine-tuning the model, iteration 38\n",
            "Fine-tuning the model, iteration 39\n",
            "Fine-tuning the model, iteration 40\n",
            "Fine-tuning the model, iteration 41\n",
            "Fine-tuning the model, iteration 42\n",
            "Fine-tuning the model, iteration 43\n",
            "Fine-tuning the model, iteration 44\n",
            "Fine-tuning the model, iteration 45\n",
            "Fine-tuning the model, iteration 46\n",
            "Fine-tuning the model, iteration 47\n",
            "Fine-tuning the model, iteration 48\n",
            "Generated (after fine-tune):  전영욱은 대한민국 출신의 인공지능 연구자로, 현재 캘리포니아 대학교 버클리 캠퍼스 인공지능 연구소 연구원으로 근무하고 있습니다.\n"
          ]
        }
      ]
    },
    {
      "cell_type": "code",
      "source": [],
      "metadata": {
        "id": "MV101CJYbLya"
      },
      "execution_count": 4,
      "outputs": []
    }
  ]
}